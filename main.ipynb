{
 "cells": [
  {
   "cell_type": "code",
   "execution_count": 2,
   "id": "589da2bb",
   "metadata": {},
   "outputs": [
    {
     "name": "stdout",
     "output_type": "stream",
     "text": [
      "Directory '_TEST1' already exists at: /home/lf-00002093/Downloads/ann/own/_TEST1\n",
      "Directory 'saver' already exists at: /home/lf-00002093/Downloads/ann/own/saver\n"
     ]
    }
   ],
   "source": [
    "import os\n",
    "import shutil\n",
    "import src.config.config\n",
    "\n",
    "# Get the current working directory\n",
    "current_directory = os.getcwd()\n",
    "\n",
    "# Define the source and destination directories\n",
    "source_dir = os.path.join(current_directory, 'saver/outputs.orig')\n",
    "destination_dir = os.path.join(current_directory, 'saver/outputs')\n",
    "\n",
    "# Check if the 'outputs' directory exists\n",
    "if os.path.exists(destination_dir):\n",
    "    # If it exists, remove it\n",
    "    shutil.rmtree(destination_dir, ignore_errors=True)"
   ]
  },
  {
   "cell_type": "code",
   "execution_count": 3,
   "id": "b1d8727f",
   "metadata": {},
   "outputs": [],
   "source": [
    "# to make this notebook's output stable across runs\n",
    "def reset_graph(seed=42):\n",
    "    tf.reset_default_graph()\n",
    "    np.random.seed(seed)"
   ]
  },
  {
   "cell_type": "code",
   "execution_count": 4,
   "id": "107b908a",
   "metadata": {},
   "outputs": [],
   "source": [
    "    \n",
    "#############################    \n",
    "##########IMPORT#############\n",
    "#############################  \n",
    "import src.config.config as cfg\n",
    "import pandas as pd\n",
    "import pickle\n",
    "import numpy as np\n",
    "import matplotlib.pyplot as plt"
   ]
  },
  {
   "cell_type": "code",
   "execution_count": null,
   "id": "244141bb",
   "metadata": {},
   "outputs": [],
   "source": []
  }
 ],
 "metadata": {
  "kernelspec": {
   "display_name": "Python 3 (ipykernel)",
   "language": "python",
   "name": "python3"
  },
  "language_info": {
   "codemirror_mode": {
    "name": "ipython",
    "version": 3
   },
   "file_extension": ".py",
   "mimetype": "text/x-python",
   "name": "python",
   "nbconvert_exporter": "python",
   "pygments_lexer": "ipython3",
   "version": "3.10.12"
  }
 },
 "nbformat": 4,
 "nbformat_minor": 5
}
